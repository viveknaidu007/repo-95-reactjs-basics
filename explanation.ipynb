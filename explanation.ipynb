{
 "cells": [
  {
   "cell_type": "code",
   "execution_count": null,
   "metadata": {},
   "outputs": [],
   "source": [
    "import React from 'react';\n",
    "\n",
    "export function App(props) {\n",
    "  return (\n",
    "    <div className='App'>\n",
    "      <h1>Hello React.</h1>\n",
    "      <h2>Start editing to see some magic happen!</h2>\n",
    "    </div>\n",
    "  );\n",
    "}\n",
    "\n",
    "// Log to console\n",
    "console.log('Hello console')"
   ]
  },
  {
   "cell_type": "code",
   "execution_count": null,
   "metadata": {},
   "outputs": [],
   "source": [
    "jsx"
   ]
  }
 ],
 "metadata": {
  "language_info": {
   "name": "python"
  }
 },
 "nbformat": 4,
 "nbformat_minor": 2
}
